{
 "cells": [
  {
   "cell_type": "markdown",
   "metadata": {},
   "source": [
    "#August 2015 \n",
    "#Author: FBB\n",
    "\n",
    "#reproduce the result in http://www.mdrc.org/sites/default/files/What%20Strategies%20Work%20for%20the%20Hard%20FR.pdf \n"
   ]
  },
  {
   "cell_type": "code",
   "execution_count": 1,
   "metadata": {
    "collapsed": false
   },
   "outputs": [
    {
     "ename": "IOError",
     "evalue": "[Errno 2] No such file or directory: '/Users/zhangyuxiang/github/CUSP/PUI2015/fbb_matplotlibrc.json'",
     "output_type": "error",
     "traceback": [
      "\u001b[0;31m---------------------------------------------------------------------------\u001b[0m",
      "\u001b[0;31mIOError\u001b[0m                                   Traceback (most recent call last)",
      "\u001b[0;32m<ipython-input-1-31b67222bea8>\u001b[0m in \u001b[0;36m<module>\u001b[0;34m()\u001b[0m\n\u001b[1;32m      7\u001b[0m \u001b[0;32mimport\u001b[0m \u001b[0mjson\u001b[0m\u001b[0;34m\u001b[0m\u001b[0m\n\u001b[1;32m      8\u001b[0m \u001b[0;32mimport\u001b[0m \u001b[0mos\u001b[0m\u001b[0;34m\u001b[0m\u001b[0m\n\u001b[0;32m----> 9\u001b[0;31m \u001b[0ms\u001b[0m \u001b[0;34m=\u001b[0m \u001b[0mjson\u001b[0m\u001b[0;34m.\u001b[0m\u001b[0mload\u001b[0m\u001b[0;34m(\u001b[0m \u001b[0mopen\u001b[0m\u001b[0;34m(\u001b[0m\u001b[0mos\u001b[0m\u001b[0;34m.\u001b[0m\u001b[0mgetenv\u001b[0m\u001b[0;34m(\u001b[0m\u001b[0;34m\"PUI2015\"\u001b[0m\u001b[0;34m)\u001b[0m\u001b[0;34m+\u001b[0m\u001b[0;34m\"/fbb_matplotlibrc.json\"\u001b[0m\u001b[0;34m)\u001b[0m \u001b[0;34m)\u001b[0m\u001b[0;34m\u001b[0m\u001b[0m\n\u001b[0m\u001b[1;32m     10\u001b[0m \u001b[0mpl\u001b[0m\u001b[0;34m.\u001b[0m\u001b[0mrcParams\u001b[0m\u001b[0;34m.\u001b[0m\u001b[0mupdate\u001b[0m\u001b[0;34m(\u001b[0m\u001b[0ms\u001b[0m\u001b[0;34m)\u001b[0m\u001b[0;34m\u001b[0m\u001b[0m\n\u001b[1;32m     11\u001b[0m \u001b[0;34m\u001b[0m\u001b[0m\n",
      "\u001b[0;31mIOError\u001b[0m: [Errno 2] No such file or directory: '/Users/zhangyuxiang/github/CUSP/PUI2015/fbb_matplotlibrc.json'"
     ]
    }
   ],
   "source": [
    "import os\n",
    "import sys\n",
    "import numpy as np\n",
    "import pylab as pl\n",
    "\n",
    "\n",
    "import json\n",
    "import os\n",
    "s = json.load( open(os.getenv(\"PUI2015\")+\"/fbb_matplotlibrc.json\") )\n",
    "pl.rcParams.update(s)\n",
    "\n",
    "%pylab inline\n",
    "\n",
    "from IPython.display import Image\n",
    "Image(filename='../plotsforclasses/NYCReentryprogram_title.png')\n",
    "\n"
   ]
  },
  {
   "cell_type": "code",
   "execution_count": null,
   "metadata": {
    "collapsed": false
   },
   "outputs": [],
   "source": [
    "Image(filename='../plotsforclasses/NYCReentryprogram.png')"
   ]
  },
  {
   "cell_type": "markdown",
   "metadata": {},
   "source": [
    "#NULL HYPOTHESIS: the % of former prisoners employed after release is the same or lower for candidates who participated in the program as for the control group, significance level p=0.05"
   ]
  },
  {
   "cell_type": "markdown",
   "metadata": {},
   "source": [
    "#$H_0: P_0 - P_1 \\geq$    0\n",
    "    \n",
    "#$H_a: P_0 - P_1 $< 0    \n",
    "    \n",
    "    \n",
    "#$\\alpha$ = 0.05    \n",
    "\n",
    "##this is a TEST OF PROPORTIONS. we use the Binomial distribution since it is a yes/no (bernulli) test for each subject: the former inmate was or was not ever employed in a CEO transitional job (second row in the table above):\n",
    "#$P_0=0.035, P_1=0.701$"
   ]
  },
  {
   "cell_type": "code",
   "execution_count": null,
   "metadata": {
    "collapsed": false
   },
   "outputs": [],
   "source": [
    "\n",
    "alpha=0.05\n",
    "#we like fractions better then percentages. as a rule of thumb, either use fractions or counts\n",
    "P_0=3.5*0.01 \n",
    "P_1=70.1*0.01\n",
    "\n",
    "n_0=409\n",
    "n_1=564\n",
    "\n",
    "#lets get the counts by multiplying by the sample size\n",
    "Nt_0=P_0*n_0\n",
    "Nt_1=P_1*n_1\n"
   ]
  },
  {
   "cell_type": "markdown",
   "metadata": {},
   "source": [
    "#2 samples, categorical data\n",
    "#TWO OPTIONS z test, or chi square test.  "
   ]
  },
  {
   "cell_type": "markdown",
   "metadata": {},
   "source": [
    "#START WITH Z TEST\n",
    "\n",
    "##the z test compares the stanrard deviation of the expected distribution and the observed result. it tells you literally how many standard deviations from the tail an observation is, under the _assumption of normality\n",
    "must define the sample standard deviation "
   ]
  },
  {
   "cell_type": "code",
   "execution_count": null,
   "metadata": {
    "collapsed": false
   },
   "outputs": [],
   "source": [
    "#define the sample proportion first\n",
    "sp=(P_0*n_0+P_1*n_1)/(n_1+n_0)\n",
    "print sp"
   ]
  },
  {
   "cell_type": "markdown",
   "metadata": {},
   "source": [
    "#standard deviation of the sampling distribution the distribution is Binomial, the binomail stdev is \n",
    "\n",
    "(see a proof here!: http://stats.stackexchange.com/questions/29641/standard-error-for-the-mean-of-a-sample-of-binomial-random-variables!): \n",
    "\n",
    "$\\sqrt{\\frac{p(1 - p)}{n}}$\n",
    "\n",
    "for 2 samples this becomes \n",
    "\n",
    "$\\sqrt{ \\frac{ \\hat{p}(1 - \\hat{p})} {n1} + \\frac{ \\hat{p}(1 - \\hat{p})} {n1} }$\n",
    "\n",
    "cfr: page 138 of Statistics in a Nutshell, eq. 5.12 and here http://stattrek.com/hypothesis-test/difference-in-proportions.aspx?Tutorial=AP\n",
    "\n"
   ]
  },
  {
   "cell_type": "code",
   "execution_count": null,
   "metadata": {
    "collapsed": false
   },
   "outputs": [],
   "source": [
    "Image(\"SiNS5.13.png\")"
   ]
  },
  {
   "cell_type": "markdown",
   "metadata": {},
   "source": [
    "Note that in the Image above, taken from the online version of the book, $\\bar{x}$ should be $\\hat{p}$!!"
   ]
  },
  {
   "cell_type": "code",
   "execution_count": null,
   "metadata": {
    "collapsed": false
   },
   "outputs": [],
   "source": [
    "# i am goonna create a little one line function to calculate the standard dev, it is not really needed, but just to show you how you do such a thing\n",
    "sp_stdev= lambda p, n: np.sqrt( p * ( 1 - p ) /n[0] +  p * ( 1 - p )/n[1]  )\n",
    "\n",
    "\n",
    "sp_stdev_2y=sp_stdev((P_0+P_1),[n_0,n_1])\n",
    "print P_0, n_0, n_1, sp_stdev_2y"
   ]
  },
  {
   "cell_type": "markdown",
   "metadata": {},
   "source": [
    "#z score: how many standard deviation away from the population parameter is my statistic?\n",
    "\n",
    "#$z=\\frac{P_1-P_0}{\\sigma}$"
   ]
  },
  {
   "cell_type": "code",
   "execution_count": null,
   "metadata": {
    "collapsed": false
   },
   "outputs": [],
   "source": [
    "zscore = lambda p0, p1, s : (p0-p1)/s\n",
    "z_2y = zscore(P_1, P_0, sp_stdev_2y)\n",
    "print z_2y\n"
   ]
  },
  {
   "cell_type": "code",
   "execution_count": null,
   "metadata": {
    "collapsed": false
   },
   "outputs": [],
   "source": [
    "Image('http://intersci.ss.uci.edu/wiki/images/3/3a/Normal01.jpg')"
   ]
  },
  {
   "cell_type": "markdown",
   "metadata": {},
   "source": [
    "##if $p<\\alpha$ : reject H0\n",
    "\n",
    "##IMPORTANT!! note that this P is not the p-value, but \n",
    "##p-value=1-P"
   ]
  },
  {
   "cell_type": "code",
   "execution_count": null,
   "metadata": {
    "collapsed": false
   },
   "outputs": [],
   "source": [
    "##p-value for employment after 2 years\n",
    "p_2y=1-0.9998\n",
    "\n",
    "def report_result(p,a):\n",
    "    print 'is the p value {0:.2f} smaller than the critical value {1:.2f}? '.format(p,a)\n",
    "    if p<a:\n",
    "        print \"YES!\"\n",
    "    else: print \"NO!\"\n",
    "    \n",
    "    print 'the Null hypothesis is {}'.format( 'rejected' if p<a  else 'not rejected') \n",
    "\n",
    "    \n",
    "report_result(p_2y,alpha)"
   ]
  },
  {
   "cell_type": "markdown",
   "metadata": {},
   "source": [
    "#!!!!!!!!TODO FOR YOU\n"
   ]
  },
  {
   "cell_type": "markdown",
   "metadata": {},
   "source": [
    "##what if we used the values for where the former inmate was or was not ever employed in a CEO transitional job 3 years after release (5th row of the table)? \n",
    "\n",
    "#$P_0 = ??, P_1= ??$"
   ]
  },
  {
   "cell_type": "markdown",
   "metadata": {},
   "source": [
    "#look up data table and insert the appropriate values to get the appropriate result!"
   ]
  },
  {
   "cell_type": "raw",
   "metadata": {
    "collapsed": false
   },
   "source": [
    "P_0=...\n",
    "P_1=...\n",
    "sp_stdev_3y=...\n",
    "\n",
    "\n",
    "z_3y = ...\n"
   ]
  },
  {
   "cell_type": "raw",
   "metadata": {
    "collapsed": false
   },
   "source": [
    "p_3y=...\n",
    "\n",
    "report_result..."
   ]
  },
  {
   "cell_type": "markdown",
   "metadata": {},
   "source": [
    "#Now lets do it with the $\\chi^2$ test"
   ]
  },
  {
   "cell_type": "markdown",
   "metadata": {},
   "source": [
    "#this can also be done with the $\\chi^2$ distribution, see \"Statistics In a Nutshell Chapter 4\", or http://math.hws.edu/javamath/ryan/ChiSquare.html (if you are really just interested in the formula at face value)"
   ]
  },
  {
   "cell_type": "markdown",
   "metadata": {},
   "source": [
    "##the chisq statistics tests a number against the distribution of the following quantity:\n",
    "\n",
    "$$\\chi^2 = \\Sigma \\frac{(observation - expectation)^2}{expectation}$$\n",
    "\n",
    "\n",
    "if we talk about sample fractions  that is \n",
    "\n",
    "$$\\chi^2 = \\Sigma \\frac{(f_{observed} - f_{expectated})^2}{f_{expected}}$$\n",
    "\n",
    "##turns out this quantity is distributed according to a chi square distribution, so if i get the $\\chi^2$ statistics i can compare it to the full chisq distribution and see how far in the tail it is\n",
    "\n",
    "##the trickiest part (not that tricky) is to figure out the table of values. please see Statistics In a Nutshell Chapter 4, for our data for example:"
   ]
  },
  {
   "cell_type": "markdown",
   "metadata": {},
   "source": [
    "|employed in subsadized job |     employed   | not employes   |                   \n",
    "|---------------------------|----------------|------------------|---------------------------|\n",
    "| test sample               | $70.1*5.64$    | $29.9*5.64$      | 564                       |\n",
    "| control sample            | $3.5*4.09$     | $96.5*4.09$      | 409                       |\n",
    "|                           |                |                  |                           |\n",
    "| total                     | 409.679        |  562.912         | 973         |"
   ]
  },
  {
   "cell_type": "markdown",
   "metadata": {},
   "source": [
    "the expected ratio is the product of the total of all rows and all columns, devided by the total"
   ]
  },
  {
   "cell_type": "markdown",
   "metadata": {},
   "source": [
    "expected = $\\frac{row tot * col tot}{total}$"
   ]
  },
  {
   "cell_type": "code",
   "execution_count": null,
   "metadata": {
    "collapsed": false
   },
   "outputs": [],
   "source": [
    "Ntot = 973\n",
    "expected = 564*409*409.679*562.912\n",
    "sample_values = [[70.1*5.64,29.9*5.64],[3.05*4.09,96.5*4.09]]\n",
    " \n",
    "chisqstat= lambda N, values, expect : N*((values[0][0]*values[1][1]-values[0][1]*values[1][0])**2)/(expect)\n",
    "\n",
    "print chisqstat(Ntot,  sample_values, expected)\n"
   ]
  },
  {
   "cell_type": "markdown",
   "metadata": {},
   "source": [
    "#!!!!!! TODO FOR YOU!\n",
    "#lets see what the chi sq statistics says about the employment for >6 consecutive months (raw 6)"
   ]
  },
  {
   "cell_type": "markdown",
   "metadata": {},
   "source": [
    "|employed in subsadized job |     employed   | not employes   |                   \n",
    "|---------------------------|----------------|------------------|---------------------------|\n",
    "| test sample               |     |      | 564                       |\n",
    "| control sample            |    |      | 409                       |\n",
    "|                           |                |                  |                           |\n",
    "| total                     |        |           | 973         |"
   ]
  },
  {
   "cell_type": "raw",
   "metadata": {},
   "source": [
    "Ntot = ...\n",
    "expected = ...\n",
    "sample_values = ...\n",
    "\n",
    "\n",
    "chisqstat=...\n",
    "print chisqstat"
   ]
  },
  {
   "cell_type": "code",
   "execution_count": null,
   "metadata": {
    "collapsed": false,
    "scrolled": false
   },
   "outputs": [],
   "source": [
    "Image(\"http://passel.unl.edu/Image/Namuth-CovertDeana956176274/chi-sqaure%20distribution%20table.PNG\")"
   ]
  },
  {
   "cell_type": "markdown",
   "metadata": {},
   "source": [
    "432 is hella larger then 3.84\n",
    "\n",
    "why am i mentioning 3.84?\n",
    "\n",
    "how does the 6mo chi square statistic that you derived compare?\n",
    "\n",
    "please  state what that means in terms of your hypothesis in a markdown cell below!"
   ]
  },
  {
   "cell_type": "markdown",
   "metadata": {
    "collapsed": true
   },
   "source": []
  }
 ],
 "metadata": {
  "kernelspec": {
   "display_name": "Python 2",
   "language": "python",
   "name": "python2"
  },
  "language_info": {
   "codemirror_mode": {
    "name": "ipython",
    "version": 2
   },
   "file_extension": ".py",
   "mimetype": "text/x-python",
   "name": "python",
   "nbconvert_exporter": "python",
   "pygments_lexer": "ipython2",
   "version": "2.7.10"
  }
 },
 "nbformat": 4,
 "nbformat_minor": 0
}
